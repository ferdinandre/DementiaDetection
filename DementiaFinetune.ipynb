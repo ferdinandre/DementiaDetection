{
  "nbformat": 4,
  "nbformat_minor": 0,
  "metadata": {
    "colab": {
      "provenance": [],
      "gpuType": "T4",
      "authorship_tag": "ABX9TyPZ98NzVo1ayf0KbKTOMTjM",
      "include_colab_link": true
    },
    "kernelspec": {
      "name": "python3",
      "display_name": "Python 3"
    },
    "language_info": {
      "name": "python"
    },
    "accelerator": "GPU"
  },
  "cells": [
    {
      "cell_type": "markdown",
      "metadata": {
        "id": "view-in-github",
        "colab_type": "text"
      },
      "source": [
        "<a href=\"https://colab.research.google.com/github/ferdinandre/DementiaDetection/blob/main/DementiaFinetune.ipynb\" target=\"_parent\"><img src=\"https://colab.research.google.com/assets/colab-badge.svg\" alt=\"Open In Colab\"/></a>"
      ]
    },
    {
      "cell_type": "markdown",
      "source": [
        "[![Open In Colab](https://colab.research.google.com/assets/colab-badge.svg)]((https://colab.research.google.com/github/ferdinandre/DementiaDetection/blob/main/DementiaFinetune.ipynb))"
      ],
      "metadata": {
        "id": "ljNflF_eIp2q"
      }
    },
    {
      "cell_type": "markdown",
      "source": [
        "**Bachelor’s Thesis – Dementia Detection Using Natural Language Processing**\n",
        "\n",
        "André Ferdinánd\n",
        "Budapest University of Technology and Economics (BME), Department of Telecommunications and Media Informatics (TMIT)\n",
        "Date: 2024.12.06\n",
        "\n",
        "This Colab notebook supports my bachelor’s thesis, which explores the use of Natural Language Processing (NLP) techniques to detect dementia based on patient speech transcripts. By applying sentiment and emotion analysis, as well as fine-tuning deep learning models such as BERT, the goal is to identify linguistic patterns that differentiate dementia patients from control subjects. The project leverages the DementiaBank dataset and contributes to the growing field of AI-assisted healthcare diagnostics."
      ],
      "metadata": {
        "id": "2H0iqJF3AR7i"
      }
    },
    {
      "cell_type": "code",
      "execution_count": null,
      "metadata": {
        "id": "D-xlzyCF93Th"
      },
      "outputs": [],
      "source": [
        "!pip install torch transformers"
      ]
    },
    {
      "cell_type": "markdown",
      "source": [],
      "metadata": {
        "id": "NaESPmF_AQFG"
      }
    },
    {
      "cell_type": "code",
      "source": [
        "import torch\n",
        "import numpy as np\n",
        "from torch.utils.data import Dataset, DataLoader\n",
        "from transformers import BertTokenizer, BertForSequenceClassification\n",
        "from transformers import get_linear_schedule_with_warmup\n",
        "from sklearn.metrics import accuracy_score, f1_score\n",
        "from torch.optim.lr_scheduler import ReduceLROnPlateau\n"
      ],
      "metadata": {
        "id": "6RYNIsng5Fue"
      },
      "execution_count": null,
      "outputs": []
    },
    {
      "cell_type": "code",
      "source": [
        "from google.colab import drive\n",
        "drive.mount('/content/drive')"
      ],
      "metadata": {
        "id": "Pk_TScr9FFDT"
      },
      "execution_count": null,
      "outputs": []
    },
    {
      "cell_type": "code",
      "source": [
        "control_directory='/content/drive/MyDrive/dementia/control-trans/cookie'\n",
        "dementia_directory='/content/drive/MyDrive/dementia/dementia-trans/cookie'\n",
        "\n",
        "import glob\n",
        "import os\n",
        "\n",
        "\n",
        "\n",
        "# Use glob to get a list of files in the directory\n",
        "control_file_list = glob.glob(f\"{control_directory}/*\")# Use /* for all files\n",
        "contr_aug_file_list = glob.glob(f\"{control_directory}aug/*\")\n",
        "dementia_file_list = glob.glob(f\"{dementia_directory}/*\")  # Use /* for all files\n",
        "dem_aug_file_list = glob.glob(f\"{dementia_directory}aug/*\")\n",
        "\n",
        "# Count the number of files\n",
        "control_file_count = len(control_file_list)\n",
        "\n",
        "dementia_file_count = len(dementia_file_list)\n",
        "\n",
        "contr_aug_file_count = len(contr_aug_file_list)\n",
        "\n",
        "deme_aug_file_count = len(dem_aug_file_list)\n",
        "\n",
        "print(f\"Number of files in control: {control_file_count}, in dementia: {dementia_file_count}, augmented control: {contr_aug_file_count}, augmented dementia: {deme_aug_file_count}\")\n",
        "\n"
      ],
      "metadata": {
        "id": "iN3UNsRID_q0",
        "colab": {
          "base_uri": "https://localhost:8080/"
        },
        "outputId": "8c30f647-6e95-4f23-f97e-581c14f8ab30"
      },
      "execution_count": null,
      "outputs": [
        {
          "output_type": "stream",
          "name": "stdout",
          "text": [
            "Number of files in control: 243, in dementia: 309, augmented control: 1900, augmented dementia: 1900\n"
          ]
        }
      ]
    },
    {
      "cell_type": "code",
      "source": [
        "#text augmentation using word synonim replacement\n",
        "\n",
        "import nltk\n",
        "from nltk.corpus import wordnet\n",
        "import random\n",
        "\n",
        "nltk.download('wordnet')\n",
        "\n",
        "def synonym_replacement(text, n=2):\n",
        "    words = text.split()\n",
        "    new_words = words.copy()\n",
        "    random_indices = list(range(len(words)))\n",
        "    random.shuffle(random_indices)\n",
        "\n",
        "    for idx in random_indices:\n",
        "        synonyms = wordnet.synsets(words[idx])\n",
        "        if synonyms:\n",
        "            synonym = random.choice(synonyms).lemmas()[0].name()\n",
        "            if synonym != words[idx]:\n",
        "                new_words[idx] = synonym\n",
        "                n -= 1\n",
        "        if n <= 0:\n",
        "            break\n",
        "\n",
        "    return ' '.join(new_words)"
      ],
      "metadata": {
        "colab": {
          "base_uri": "https://localhost:8080/"
        },
        "id": "DHvN3nCgyQw3",
        "outputId": "94d1a910-d815-4f55-ef66-077f784e124c"
      },
      "execution_count": null,
      "outputs": [
        {
          "output_type": "stream",
          "name": "stderr",
          "text": [
            "[nltk_data] Downloading package wordnet to /root/nltk_data...\n"
          ]
        }
      ]
    },
    {
      "cell_type": "code",
      "source": [
        "# Augment files\n",
        "\n",
        "# goes over a directory, and creates {num_files} augmented textfiles in the given output directory\n",
        "\n",
        "def augment_files(directory, output_directory, num_files):\n",
        "  print(f\"we want: {num_files}\")\n",
        "  if not os.path.exists(output_directory):\n",
        "      os.makedirs(output_directory)\n",
        "  file_count = 0\n",
        "  while (file_count < num_files):\n",
        "    for file_name in os.listdir(directory):\n",
        "        if file_name.endswith(\".cha\"):\n",
        "            with open(os.path.join(directory, file_name), \"r\") as f:\n",
        "                content = f.read()\n",
        "\n",
        "            # Apply augmentation technique\n",
        "            augmented_text = synonym_replacement(content)\n",
        "            augmented_text = augmented_text.replace(\"*\", \"\\n*\").replace(\"%\", \"\\n%\").replace(\"\\t\", \"\\n\\t\")\n",
        "            # Save augmented texts\n",
        "            new_file_name = f\"aug_{file_count}.cha\"\n",
        "            with open(os.path.join(output_directory, new_file_name), \"w\") as f:\n",
        "                f.write(augmented_text)\n",
        "\n",
        "            file_count += 1\n",
        "            print(file_count)\n",
        "            if file_count >= num_files:\n",
        "                break\n"
      ],
      "metadata": {
        "id": "lKJ3Ga5GxztX"
      },
      "execution_count": null,
      "outputs": []
    },
    {
      "cell_type": "code",
      "source": [
        "#Because of the class imbalance, we augment less dementia files\n",
        "\n",
        "destination_folder = control_directory+\"aug\"\n",
        "\n",
        "augment_files(control_directory, destination_folder, 1900)\n",
        "\n",
        "destination_folder = dementia_directory+\"aug\"\n",
        "\n",
        "augment_files(dementia_directory, destination_folder, 1900)"
      ],
      "metadata": {
        "id": "h68D9pa-AA2C",
        "colab": {
          "base_uri": "https://localhost:8080/",
          "height": 219
        },
        "outputId": "d26c3a76-6fa7-43a6-c5b8-0f7d4544c1e3"
      },
      "execution_count": null,
      "outputs": [
        {
          "output_type": "error",
          "ename": "NameError",
          "evalue": "name 'augment_files' is not defined",
          "traceback": [
            "\u001b[0;31m---------------------------------------------------------------------------\u001b[0m",
            "\u001b[0;31mNameError\u001b[0m                                 Traceback (most recent call last)",
            "\u001b[0;32m<ipython-input-6-3767409058>\u001b[0m in \u001b[0;36m<cell line: 0>\u001b[0;34m()\u001b[0m\n\u001b[1;32m      3\u001b[0m \u001b[0mdestination_folder\u001b[0m \u001b[0;34m=\u001b[0m \u001b[0mcontrol_directory\u001b[0m\u001b[0;34m+\u001b[0m\u001b[0;34m\"aug\"\u001b[0m\u001b[0;34m\u001b[0m\u001b[0;34m\u001b[0m\u001b[0m\n\u001b[1;32m      4\u001b[0m \u001b[0;34m\u001b[0m\u001b[0m\n\u001b[0;32m----> 5\u001b[0;31m \u001b[0maugment_files\u001b[0m\u001b[0;34m(\u001b[0m\u001b[0mcontrol_directory\u001b[0m\u001b[0;34m,\u001b[0m \u001b[0mdestination_folder\u001b[0m\u001b[0;34m,\u001b[0m \u001b[0;36m1900\u001b[0m\u001b[0;34m)\u001b[0m\u001b[0;34m\u001b[0m\u001b[0;34m\u001b[0m\u001b[0m\n\u001b[0m\u001b[1;32m      6\u001b[0m \u001b[0;34m\u001b[0m\u001b[0m\n\u001b[1;32m      7\u001b[0m \u001b[0mdestination_folder\u001b[0m \u001b[0;34m=\u001b[0m \u001b[0mdementia_directory\u001b[0m\u001b[0;34m+\u001b[0m\u001b[0;34m\"aug\"\u001b[0m\u001b[0;34m\u001b[0m\u001b[0;34m\u001b[0m\u001b[0m\n",
            "\u001b[0;31mNameError\u001b[0m: name 'augment_files' is not defined"
          ]
        }
      ]
    },
    {
      "cell_type": "code",
      "source": [
        "#We import the tokenizer early, because we will need it imeeadiately after reading from a file.\n",
        "\n",
        "from transformers import BertForSequenceClassification, BertTokenizer\n",
        "tokenizer = BertTokenizer.from_pretrained(\"distilbert-base-uncased\")"
      ],
      "metadata": {
        "id": "5PK-U8GBw6iR"
      },
      "execution_count": null,
      "outputs": []
    },
    {
      "cell_type": "code",
      "source": [
        "def process_cha_file(file_path, tokenizer, max_len=512):\n",
        "    \"\"\"\n",
        "    Processes a .cha file, extracts *PAR lines, tokenizes them, and prepares inputs for the model.\n",
        "\n",
        "    Args:\n",
        "        file_path (str): Path to the .cha file.\n",
        "        tokenizer: Tokenizer to use for tokenization.\n",
        "        max_len (int): Maximum number of tokens per segment.\n",
        "\n",
        "    Returns:\n",
        "        Dict: A dictionary containing 'input_ids' and 'attention_mask'.\n",
        "    \"\"\"\n",
        "    token_lists = []  # List to store tokenized segments\n",
        "\n",
        "    with open(file_path, 'r') as file:\n",
        "        lines = file.readlines()\n",
        "\n",
        "    # Filter lines that start with *PAR\n",
        "    par_lines = [line[6:].strip() for line in lines if line.startswith(\"*PAR:\")]\n",
        "\n",
        "    # Concatenate all *PAR lines into one text\n",
        "    full_text = \" \".join(par_lines)\n",
        "\n",
        "    # Tokenize the full text\n",
        "    tokens = tokenizer.tokenize(full_text)\n",
        "\n",
        "    # Split tokens into chunks of size <= max_len\n",
        "    for i in range(0, len(tokens), max_len):\n",
        "        token_chunk = tokens[i:i + max_len]\n",
        "        token_lists.append(token_chunk)\n",
        "\n",
        "    return token_lists\n"
      ],
      "metadata": {
        "id": "rYJeRD5VO_3a"
      },
      "execution_count": null,
      "outputs": []
    },
    {
      "cell_type": "code",
      "source": [
        "import os\n",
        "\n",
        "#Creaetes token lists from .cha files in a directory\n",
        "\n",
        "def create_token_lists(directory):\n",
        "    # Iterate over all .cha files in the given directory\n",
        "    id_to_tokenlists = dict()\n",
        "    # token_lists = []\n",
        "    print(f\"Processing directory: {directory}\")\n",
        "    count = 0\n",
        "    for filename in os.listdir(directory):\n",
        "        if filename.endswith(\".cha\"):\n",
        "            file_path = os.path.join(directory, filename)\n",
        "            with open(file_path, \"r\", encoding=\"utf-8\") as inputfile:\n",
        "              token_lists = process_cha_file(file_path, tokenizer)\n",
        "            key = filename[:3]\n",
        "            if key not in id_to_tokenlists:\n",
        "              id_to_tokenlists[key] = []\n",
        "            for token_list in token_lists:\n",
        "              count += 1\n",
        "              id_to_tokenlists[key].append(token_list)\n",
        "    print(f\"Created {count} tokenlists\")\n",
        "    return id_to_tokenlists\n",
        "\n"
      ],
      "metadata": {
        "id": "4kqWHIqZEOQL"
      },
      "execution_count": null,
      "outputs": []
    },
    {
      "cell_type": "code",
      "source": [
        "from sklearn.model_selection import train_test_split\n",
        "#Separate test patients from val and train patients\n",
        "\n",
        "#Process the transcripts of dementia patients\n",
        "#This creates a dictionary, that assigns token lists to each patient id\n",
        "dementia_dict = create_token_lists(dementia_directory)\n",
        "\n",
        "dementia_train_keys, dementia_test_keys = train_test_split(list(dementia_dict.keys()), test_size=0.2, random_state=42)\n",
        "dementia_test_keys, dementia_val_keys = train_test_split(dementia_test_keys, test_size=0.5, random_state=42)\n",
        "\n",
        "dementia_train_dict = {key: dementia_dict[key] for key in dementia_train_keys}\n",
        "# dementia_test_dict = {key: dementia_dict[key] for key in dementia_test_keys}\n",
        "dementia_val_dict = {key: dementia_dict[key] for key in dementia_val_keys}\n",
        "\n",
        "control_dict = create_token_lists(control_directory)\n",
        "\n",
        "control_train_keys, control_test_keys = train_test_split(list(control_dict.keys()), test_size=0.2, random_state=42)\n",
        "control_test_keys, control_val_keys = train_test_split(control_test_keys, test_size=0.5, random_state=42)\n",
        "\n",
        "control_train_dict = {key: control_dict[key] for key in control_train_keys}\n",
        "# control_test_dict = {key: control_dict[key] for key in control_test_keys}\n",
        "control_val_dict = {key: control_dict[key] for key in control_val_keys}"
      ],
      "metadata": {
        "colab": {
          "base_uri": "https://localhost:8080/"
        },
        "id": "iW6RRE_dficb",
        "outputId": "6f40c124-77ed-497e-e9da-b8bce4fb3fe6"
      },
      "execution_count": null,
      "outputs": [
        {
          "output_type": "stream",
          "name": "stdout",
          "text": [
            "Processing directory: /content/drive/MyDrive/dementia/dementia-trans/cookie\n",
            "Created 322 tokenlists\n",
            "Processing directory: /content/drive/MyDrive/dementia/control-trans/cookie\n",
            "Created 245 tokenlists\n"
          ]
        }
      ]
    },
    {
      "cell_type": "code",
      "source": [
        "#Generate the augmented dementia and control tokenlists (These will go into the training set)\n",
        "\n",
        "dementia_aug_train_dict = create_token_lists(dementia_directory+\"aug\")\n",
        "dementia_aug_len = sum(len(value) for value in dementia_aug_train_dict.values())\n",
        "print(f\"dementia aug length: {dementia_aug_len}\")\n",
        "dementia_len = sum(len(value) for value in dementia_train_dict.values())\n",
        "print(f\"dementia train length: {dementia_len}\")\n",
        "\n",
        "total_dementia_length = dementia_aug_len + dementia_len\n",
        "print(f\"dementia total train length: {dementia_aug_len + dementia_len}\")\n",
        "\n",
        "control_aug_train_dict = create_token_lists(control_directory+\"aug\")\n",
        "control_aug_len = sum(len(value) for value in control_aug_train_dict.values())\n",
        "print(f\"control aug length: {control_aug_len}\")\n",
        "control_len = sum(len(value) for value in control_train_dict.values())\n",
        "print(f\"control train length: {control_len}\")\n",
        "\n",
        "total_control_length = control_aug_len + control_len\n",
        "print(f\"control total train length: {control_aug_len + control_len}\")\n",
        "\n",
        "print(f\"Class imbalance: {total_dementia_length / (total_dementia_length + total_control_length)}\" )"
      ],
      "metadata": {
        "id": "nHtwrvnMgj2h"
      },
      "execution_count": null,
      "outputs": []
    },
    {
      "cell_type": "code",
      "source": [
        "diff = total_dementia_length-total_control_length\n",
        "\n",
        "diff"
      ],
      "metadata": {
        "colab": {
          "base_uri": "https://localhost:8080/"
        },
        "id": "bDlB-ic7fBbM",
        "outputId": "6fceb349-141d-4532-ce7a-66d7a4686abd"
      },
      "execution_count": null,
      "outputs": [
        {
          "output_type": "execute_result",
          "data": {
            "text/plain": [
              "113"
            ]
          },
          "metadata": {},
          "execution_count": 13
        }
      ]
    },
    {
      "cell_type": "code",
      "source": [
        "# Extract training data from dicitonaries\n",
        "\n",
        "#Extract the train data from both original and augmented dementia tokenlist dictionaries\n",
        "dementia_train = []\n",
        "for key, value in dementia_train_dict.items():\n",
        "  for token_list in value:\n",
        "    dementia_train.append(token_list)\n",
        "dementia_train_aug = []\n",
        "for key, value in dementia_aug_train_dict.items():\n",
        "  for token_list in value:\n",
        "    dementia_train_aug.append(token_list)\n",
        "\n",
        "#Extract the train data from both original and augmented control tokenlist dictionaries\n",
        "control_train = []\n",
        "for key, value in control_train_dict.items():\n",
        "  for token_list in value:\n",
        "    control_train.append(token_list)\n",
        "control_train_aug = []\n",
        "for key, value in control_aug_train_dict.items():\n",
        "  for token_list in value:\n",
        "    control_train_aug.append(token_list)\n",
        "\n",
        "print(f\"Dementia train length: {len(dementia_train)}, Control train length: {len(control_train)}\")\n",
        "print(f\"Dementia train aug length: {len(dementia_train_aug)}, Control train aug length: {len(control_train_aug)}\")\n",
        "\n",
        "print(f\"Class imbalance = {(len(dementia_train) + len(dementia_train_aug)) / (len(dementia_train)+len(control_train)+len(dementia_train_aug)+len(control_train_aug))}\")"
      ],
      "metadata": {
        "id": "EvOURwfUg31F"
      },
      "execution_count": null,
      "outputs": []
    },
    {
      "cell_type": "code",
      "source": [
        "# Handle the class imbalance\n",
        "total_original = len(dementia_train) + len(control_train)\n",
        "# We either remove from the control aug, or the dementia aug\n",
        "if(diff < 0):\n",
        "  print(\"Diff is negative, we throw away some control data\")\n",
        "  control_train += control_train_aug[:diff]\n",
        "  control_train_aug = control_train_aug[:diff]\n",
        "  dementia_train += dementia_train_aug\n",
        "elif(diff > 0):\n",
        "  print(\"Diff is positive, we throw away some dementia data\")\n",
        "  dementia_train += dementia_train_aug[:-diff]\n",
        "  dementia_train_aug = dementia_train_aug[:-diff]\n",
        "  control_train += control_train_aug\n",
        "else:\n",
        "  dementia_train += dementia_train_aug\n",
        "  control_train += control_train_aug\n",
        "\n",
        "\n",
        "total_augmented = len(dementia_train_aug) + len(control_train_aug) - diff\n",
        "print(f\"Total original: {total_original}, Total augmented: {total_augmented}\")\n",
        "print(f\"Proportion of augmented: {total_augmented / (total_augmented + total_original)}\")\n",
        "\n",
        "\n",
        "dementia_train_labels = [1] * len(dementia_train)\n",
        "control_train_labels = [0] * len(control_train)\n",
        "\n",
        "\n",
        "print(f\"Class imbalance = {len(dementia_train) / (len(dementia_train)+len(control_train))}\")\n",
        "print(f\"Dementia train length: {len(dementia_train)}, Control train length: {len(control_train)}\")"
      ],
      "metadata": {
        "id": "NLVNHqKwiOuP"
      },
      "execution_count": null,
      "outputs": []
    },
    {
      "cell_type": "code",
      "source": [],
      "metadata": {
        "id": "7GTV5JhQrk_z"
      },
      "execution_count": null,
      "outputs": []
    },
    {
      "cell_type": "code",
      "source": [
        "#Extract the dementia val data\n",
        "dementia_val = []\n",
        "for key, value in dementia_val_dict.items():\n",
        "  for token_list in value:\n",
        "    dementia_val.append(token_list)\n",
        "dementia_val_labels = [1] * len(dementia_val)\n",
        "\n",
        "#Extract the control val data\n",
        "control_val = []\n",
        "for key, value in control_val_dict.items():\n",
        "  for token_list in value:\n",
        "    control_val.append(token_list)\n",
        "control_val_labels = [0] * len(control_val)\n",
        "\n"
      ],
      "metadata": {
        "id": "U8IirM9GiCav"
      },
      "execution_count": null,
      "outputs": []
    },
    {
      "cell_type": "code",
      "source": [
        "\n",
        "#Extract the dementia test data\n",
        "dementia_test = []\n",
        "for key, value in dementia_test_dict.items():\n",
        "  for token_list in value:\n",
        "    dementia_test.append(token_list)\n",
        "dementia_test_labels = [1] * len(dementia_test)\n",
        "\n",
        "#extract the control test data\n",
        "control_test = []\n",
        "for key, value in control_test_dict.items():\n",
        "  for token_list in value:\n",
        "    control_test.append(token_list)\n",
        "control_test_labels = [0] * len(control_test)\n"
      ],
      "metadata": {
        "id": "cnUirfAziICG"
      },
      "execution_count": null,
      "outputs": []
    },
    {
      "cell_type": "code",
      "source": [
        "#Add the dementia and control sets in all 3 cases\n",
        "total_train = dementia_train + control_train\n",
        "total_train_labels = dementia_train_labels + control_train_labels\n",
        "\n",
        "total_val = dementia_val + control_val\n",
        "total_val_labels = dementia_val_labels + control_val_labels\n",
        "\n",
        "#total_test = dementia_test + control_test\n",
        "#total_test_labels = dementia_test_labels + control_test_labels"
      ],
      "metadata": {
        "id": "TT_zBDnMiF4u"
      },
      "execution_count": null,
      "outputs": []
    },
    {
      "cell_type": "code",
      "source": [
        "import random\n",
        "\n",
        "print(f\"Random element from dementia train: {random.choice(dementia_train)}\")\n",
        "print(f\"Random element from control train: {random.choice(control_train)}\")"
      ],
      "metadata": {
        "id": "VjKK4jt42YTQ"
      },
      "execution_count": null,
      "outputs": []
    },
    {
      "cell_type": "code",
      "source": [
        "torch.cuda.is_available()"
      ],
      "metadata": {
        "colab": {
          "base_uri": "https://localhost:8080/"
        },
        "id": "I2uOAvqvkSpP",
        "outputId": "47a269d9-024a-423a-f97a-aefb61a2dcc5"
      },
      "execution_count": null,
      "outputs": [
        {
          "output_type": "execute_result",
          "data": {
            "text/plain": [
              "True"
            ]
          },
          "metadata": {},
          "execution_count": 19
        }
      ]
    },
    {
      "cell_type": "code",
      "source": [
        "# Device setup (automatically detects GPU if available)\n",
        "device = torch.device(\"cuda\" if torch.cuda.is_available() else \"cpu\")"
      ],
      "metadata": {
        "id": "Re2tzsHhR8vT"
      },
      "execution_count": null,
      "outputs": []
    },
    {
      "cell_type": "code",
      "source": [
        "# we use torch Dataset out of convenience\n",
        "\n",
        "class DementiaDataset(Dataset):\n",
        "    def __init__(self, tokenlists, labels, tokenizer, max_len=512):\n",
        "        self.tokenlists = tokenlists\n",
        "        self.labels = labels\n",
        "        self.tokenizer = tokenizer\n",
        "        self.max_len = max_len\n",
        "\n",
        "    def __len__(self):\n",
        "        return len(self.tokenlists)\n",
        "\n",
        "    def __getitem__(self, idx):\n",
        "        tokens = self.tokenlists[idx]\n",
        "\n",
        "        # Convert tokens to input IDs and attention mask\n",
        "        encoding = self.tokenizer(\n",
        "            tokens,\n",
        "            is_split_into_words=True,  # Since tokens are already split\n",
        "            max_length=self.max_len,\n",
        "            padding=\"max_length\",\n",
        "            truncation=True,\n",
        "            return_tensors=\"pt\",\n",
        "        )\n",
        "\n",
        "        item = {\n",
        "            \"input_ids\": encoding[\"input_ids\"].squeeze(0),  # Remove batch dimension\n",
        "            \"attention_mask\": encoding[\"attention_mask\"].squeeze(0),\n",
        "        }\n",
        "\n",
        "        # Include label if provided\n",
        "        if self.labels is not None:\n",
        "            item[\"label\"] = torch.tensor(self.labels[idx], dtype=torch.float)\n",
        "\n",
        "        return item"
      ],
      "metadata": {
        "id": "ewDPmmuFSA0v"
      },
      "execution_count": null,
      "outputs": []
    },
    {
      "cell_type": "code",
      "source": [
        "import torch.nn as nn\n",
        "\n",
        "# Load tokenizer and model\n",
        "# tokenizer = BertTokenizer.from_pretrained(\"bert-base-uncased\")\n",
        "model = BertForSequenceClassification.from_pretrained(\"bert-base-uncased\", num_labels=1)\n",
        "\n",
        "model.classifier.dropout = nn.Dropout(p=0.35)  # 35% dropout for generalization\n",
        "model.to(device)"
      ],
      "metadata": {
        "id": "HGn_UM0FSBlK"
      },
      "execution_count": null,
      "outputs": []
    },
    {
      "cell_type": "code",
      "source": [
        "#torch.save(model, \"/content/drive/MyDrive/complete_model.pth\")\n",
        "model = torch.load(\"/content/drive/MyDrive/complete_model.pth\")"
      ],
      "metadata": {
        "id": "8kdIJWy_iglQ",
        "colab": {
          "base_uri": "https://localhost:8080/",
          "height": 164
        },
        "outputId": "87106808-8a44-4bc4-8703-4f0b6f73bfb4"
      },
      "execution_count": null,
      "outputs": [
        {
          "output_type": "error",
          "ename": "NameError",
          "evalue": "name 'torch' is not defined",
          "traceback": [
            "\u001b[0;31m---------------------------------------------------------------------------\u001b[0m",
            "\u001b[0;31mNameError\u001b[0m                                 Traceback (most recent call last)",
            "\u001b[0;32m<ipython-input-1-124410311>\u001b[0m in \u001b[0;36m<cell line: 0>\u001b[0;34m()\u001b[0m\n\u001b[1;32m      1\u001b[0m \u001b[0;31m#torch.save(model, \"/content/drive/MyDrive/complete_model.pth\")\u001b[0m\u001b[0;34m\u001b[0m\u001b[0;34m\u001b[0m\u001b[0m\n\u001b[0;32m----> 2\u001b[0;31m \u001b[0mmodel\u001b[0m \u001b[0;34m=\u001b[0m \u001b[0mtorch\u001b[0m\u001b[0;34m.\u001b[0m\u001b[0mload\u001b[0m\u001b[0;34m(\u001b[0m\u001b[0;34m\"/content/drive/MyDrive/complete_model.pth\"\u001b[0m\u001b[0;34m)\u001b[0m\u001b[0;34m\u001b[0m\u001b[0;34m\u001b[0m\u001b[0m\n\u001b[0m",
            "\u001b[0;31mNameError\u001b[0m: name 'torch' is not defined"
          ]
        }
      ]
    },
    {
      "cell_type": "code",
      "source": [
        "# Prepare datasets and dataloaders\n",
        "train_dataset = DementiaDataset(total_train, total_train_labels, tokenizer)\n",
        "val_dataset = DementiaDataset(total_val, total_val_labels, tokenizer)\n",
        "#test_dataset = DementiaDataset(total_test, total_test_labels, tokenizer)\n",
        "\n",
        "train_loader = DataLoader(train_dataset, batch_size=16, shuffle=True)\n",
        "val_loader = DataLoader(val_dataset, batch_size=16)\n",
        "#test_loader = DataLoader(test_dataset, batch_size=16)\n"
      ],
      "metadata": {
        "id": "FpkX2swj7ORZ"
      },
      "execution_count": null,
      "outputs": []
    },
    {
      "cell_type": "code",
      "source": [
        "model.to(device)"
      ],
      "metadata": {
        "id": "7r23ml9brSX2"
      },
      "execution_count": null,
      "outputs": []
    },
    {
      "cell_type": "code",
      "source": [
        "# Freeze the first 4 layers also for generalization\n",
        "for name, param in model.bert.encoder.layer[:4].named_parameters():\n",
        "    print(f\"Freezing {name}\")\n",
        "    param.requires_grad = False"
      ],
      "metadata": {
        "id": "tSi6sz5ZSKs2"
      },
      "execution_count": null,
      "outputs": []
    },
    {
      "cell_type": "code",
      "source": [
        "from torch.optim.lr_scheduler import ReduceLROnPlateau\n",
        "from torch.nn import BCEWithLogitsLoss\n",
        "# Optimizer, scheduler, and training parameters\n",
        "\n",
        "# Loss function\n",
        "loss_fn = BCEWithLogitsLoss()\n",
        "optimizer = AdamW(model.parameters(), lr=3e-6, weight_decay=5e-2)\n",
        "scheduler = scheduler = ReduceLROnPlateau(optimizer, mode='min', factor=0.5, patience=3, verbose=True)\n",
        "num_epochs = 20"
      ],
      "metadata": {
        "id": "cTz5LKOKSSf9"
      },
      "execution_count": null,
      "outputs": []
    },
    {
      "cell_type": "code",
      "source": [
        "import torch\n",
        "import numpy as np\n",
        "\n",
        "class EarlyStopping:\n",
        "    def __init__(self, patience=5, delta=0, path='checkpoint.pt', verbose=False):\n",
        "        \"\"\"\n",
        "        Args:\n",
        "            patience (int): Hány epochig várjunk javulásra a validációs veszteségben.\n",
        "            delta (float): Minimális változás a validációs veszteségben, amelyet javulásnak tekintünk.\n",
        "            path (str): A legjobb modell mentési útvonala.\n",
        "            verbose (bool): Ha True, kiírja, mikor menti el az új legjobb modellt.\n",
        "        \"\"\"\n",
        "        self.patience = patience\n",
        "        self.delta = delta\n",
        "        self.path = path\n",
        "        self.verbose = verbose\n",
        "        self.counter = 0\n",
        "        self.best_score = None\n",
        "        self.early_stop = False\n",
        "        self.val_loss_min = np.Inf\n",
        "\n",
        "    def __call__(self, val_loss, model):\n",
        "        score = -val_loss\n",
        "\n",
        "        if self.best_score is None:\n",
        "            self.best_score = score\n",
        "            self.save_checkpoint(val_loss, model)\n",
        "        elif score < self.best_score + self.delta:\n",
        "            self.counter += 1\n",
        "            if self.verbose:\n",
        "                print(f'EarlyStopping counter: {self.counter} out of {self.patience}')\n",
        "            if self.counter >= self.patience:\n",
        "                self.early_stop = True\n",
        "        else:\n",
        "            self.best_score = score\n",
        "            self.save_checkpoint(val_loss, model)\n",
        "            self.counter = 0\n",
        "\n",
        "    def save_checkpoint(self, val_loss, model):\n",
        "        \"\"\"Mentjük a legjobb modellt.\"\"\"\n",
        "        if self.verbose:\n",
        "            print(f'Validation loss decreased ({self.val_loss_min:.6f} --> {val_loss:.6f}).  Saving model ...')\n",
        "        torch.save(model, self.path)\n",
        "        self.val_loss_min = val_loss\n"
      ],
      "metadata": {
        "id": "YviEl88vr258"
      },
      "execution_count": null,
      "outputs": []
    },
    {
      "cell_type": "code",
      "source": [
        "early_stopping = EarlyStopping(patience=5, delta=0.001, verbose=True, path='/content/drive/MyDrive/complete_model2.pth')"
      ],
      "metadata": {
        "id": "FCe-bcdLsRC7"
      },
      "execution_count": null,
      "outputs": []
    },
    {
      "cell_type": "code",
      "source": [
        "#Training function\n",
        "def train_model(model, train_loader, optimizer, loss_fn, device):\n",
        "    model.train()\n",
        "    total_loss = 0\n",
        "    correct_predictions = 0\n",
        "    total_samples = 0\n",
        "\n",
        "    for batch in train_loader:\n",
        "        optimizer.zero_grad()\n",
        "\n",
        "        # Move data to device\n",
        "        input_ids = batch[\"input_ids\"].to(device)\n",
        "        attention_mask = batch[\"attention_mask\"].to(device)\n",
        "        labels = batch[\"label\"].to(device)\n",
        "\n",
        "        # Forward pass\n",
        "        outputs = model(input_ids=input_ids, attention_mask=attention_mask)\n",
        "        logits = outputs.logits.squeeze(-1)  # Shape: (batch_size,)\n",
        "\n",
        "        # Compute loss\n",
        "        loss = loss_fn(logits, labels)\n",
        "        total_loss += loss.item()\n",
        "\n",
        "        # Backward pass and optimization\n",
        "        loss.backward()\n",
        "        optimizer.step()\n",
        "\n",
        "        # Predictions and accuracy\n",
        "        preds = (logits > 0).int()  # Threshold logits at 0 for binary classification\n",
        "        correct_predictions += (preds == labels).sum().item()\n",
        "        total_samples += labels.size(0)\n",
        "\n",
        "    # Calculate average loss and accuracy\n",
        "    avg_loss = total_loss / len(train_loader)\n",
        "    accuracy = correct_predictions / total_samples\n",
        "\n",
        "    # print(f\"Training loss: {avg_loss:.4f}, Training accuracy: {accuracy:.4f}\")\n",
        "    return avg_loss, accuracy\n"
      ],
      "metadata": {
        "id": "-73uPvOZrpB-"
      },
      "execution_count": null,
      "outputs": []
    },
    {
      "cell_type": "code",
      "source": [
        "#Validation function\n",
        "\n",
        "from torch.nn.functional import sigmoid\n",
        "import numpy as np\n",
        "\n",
        "def eval_model(model, eval_loader, loss_fn, device):\n",
        "    model.eval()\n",
        "    total_loss = 0\n",
        "    predictions = []\n",
        "    true_labels = []\n",
        "\n",
        "    with torch.no_grad():\n",
        "        for batch in eval_loader:\n",
        "            # Process the batch\n",
        "            loss, logits = process_batch(batch, model, device, loss_fn)\n",
        "            total_loss += loss.item()\n",
        "\n",
        "            # Convert logits to probabilities\n",
        "            probs = sigmoid(logits)  # Probabilities in range [0, 1]\n",
        "            preds = (probs > 0.5).int()  # Threshold at 0.5 for binary classification\n",
        "\n",
        "            # Store predictions and true labels\n",
        "            predictions.extend(preds.cpu().numpy())\n",
        "            true_labels.extend(batch['label'].cpu().numpy())\n",
        "\n",
        "    avg_loss = total_loss / len(eval_loader)\n",
        "    accuracy = (np.array(predictions) == np.array(true_labels)).mean()\n",
        "    # print(f\"Validation loss: {avg_loss:.4f}, Accuracy: {accuracy:.4f}\")\n",
        "    return avg_loss, accuracy"
      ],
      "metadata": {
        "id": "jB_85Rgwrts3"
      },
      "execution_count": null,
      "outputs": []
    },
    {
      "cell_type": "code",
      "source": [
        "# Helper function for processing a batch\n",
        "\n",
        "def process_batch(batch, model, device, loss_fn):\n",
        "    input_ids = batch['input_ids'].to(device)\n",
        "    attention_mask = batch['attention_mask'].to(device)\n",
        "    labels = batch['label'].to(device).float()  # Ensure labels are float for BCEWithLogitsLoss\n",
        "\n",
        "    # Forward pass\n",
        "    outputs = model(input_ids=input_ids, attention_mask=attention_mask)\n",
        "    logits = outputs.logits.squeeze(-1)  # Shape: (batch_size,)\n",
        "\n",
        "    # Compute loss\n",
        "    loss = loss_fn(logits, labels)\n",
        "    return loss, logits\n"
      ],
      "metadata": {
        "id": "SEKmsn6-3N7c"
      },
      "execution_count": null,
      "outputs": []
    },
    {
      "cell_type": "code",
      "source": [
        "# Training loop with learning rate scheduler\n",
        "# Initialize lists to store metrics\n",
        "#train_losses = [0.5768332452679491, 0.38551867333248724, 0.23220529649987098, 0.12726649224610403, 0.07578065428386835, 0.054565113641997065, 0.03935042731252845, 0.024802896555608123, 0.014947955800014583, 0.011158410511203849]\n",
        "#train_accuracies = [0.7236421725239617, 0.8541001064962727, 0.9256301029463969, 0.9641462548810792, 0.9829605963791267, 0.9865104721334753, 0.9902378416755414, 0.9930777422790202, 0.9966276180333689, 0.9984025559105432]\n",
        "#val_losses = [0.5980872958898544, 0.4689982198178768, 0.37839355133473873, 0.27862523682415485, 0.29365274542942643, 0.21222620829939842, 0.1719787479378283, 0.09096298925578594, 0.09065652708522975, 0.08436716720461845]\n",
        "#val_accuracies = [0.71875, 0.8125, 0.890625, 0.90625, 0.90625, 0.953125, 0.953125, 0.96875, 0.984375, 0.984375]\n",
        "\n",
        "train_losses = []\n",
        "train_accuracies = []\n",
        "val_losses = []\n",
        "val_accuracies = []"
      ],
      "metadata": {
        "id": "X6qWhDd_cwF8"
      },
      "execution_count": null,
      "outputs": []
    },
    {
      "cell_type": "code",
      "source": [
        "from torch.utils.data import DataLoader\n",
        "\n",
        "#Store the best model based on best validation accuracy\n",
        "best_acc = 0\n",
        "\n",
        "\n",
        "# Training loop\n",
        "for epoch in range(num_epochs):\n",
        "    print(f\"Epoch {epoch + 1}/{num_epochs}\")\n",
        "\n",
        "    # Train\n",
        "    train_loss, train_acc = train_model(model, train_loader, optimizer, loss_fn, device)\n",
        "\n",
        "    # Validate\n",
        "    val_loss, val_acc = eval_model(model, val_loader, loss_fn, device)\n",
        "\n",
        "\n",
        "\n",
        "    train_losses.append(train_loss)\n",
        "    train_accuracies.append(train_acc)\n",
        "    val_losses.append(val_loss)\n",
        "    val_accuracies.append(val_acc)\n",
        "\n",
        "    print(f\"Train Loss: {train_loss}, Train Accuracy: {train_acc}\")\n",
        "    print(f\"Validation Loss: {val_loss}, Validation Accuracy: {val_acc}\")\n",
        "\n",
        "    early_stopping(val_loss, model)\n",
        "    if early_stopping.early_stop:\n",
        "        print(\"Early stopping triggered\")\n",
        "        break\n",
        "\n",
        "    scheduler.step(val_loss)\n"
      ],
      "metadata": {
        "id": "lSDQjnNJr4Vc"
      },
      "execution_count": null,
      "outputs": []
    },
    {
      "cell_type": "code",
      "source": [
        "torch.save(model, \"/content/drive/MyDrive/complete_model_overfit.pth\")"
      ],
      "metadata": {
        "id": "0n1N87HdDqM2"
      },
      "execution_count": null,
      "outputs": []
    },
    {
      "cell_type": "code",
      "source": [
        "import torch\n",
        "\n",
        "model = torch.load(\"/content/drive/MyDrive/complete_model.pth\")"
      ],
      "metadata": {
        "id": "HzAB_suikDuY"
      },
      "execution_count": null,
      "outputs": []
    },
    {
      "cell_type": "code",
      "source": [
        "import matplotlib.pyplot as plt\n",
        "# Plot training and validation loss\n",
        "plt.figure(figsize=(12, 5))\n",
        "plt.plot(train_losses, label='Tanítási Loss')\n",
        "plt.plot(val_losses, label='Validálási Loss')\n",
        "plt.xlabel('Epoch')\n",
        "plt.ylabel('Loss')\n",
        "plt.title('Tanítási és Validációs Loss')\n",
        "plt.legend()\n",
        "plt.savefig('/content/drive/MyDrive/dementia/lossplot.png')\n",
        "plt.show()\n",
        "plt.close()\n",
        "\n",
        "# Plot training and validation accuracy\n",
        "plt.figure(figsize=(12, 5))\n",
        "plt.plot(train_accuracies, label='Tanítási Pontosság')\n",
        "plt.plot(val_accuracies, label='Validációs Pontosság')\n",
        "plt.xlabel('Epoch')\n",
        "plt.ylabel('Pontosság')\n",
        "plt.title('Tanítási és Validációs Pontosság')\n",
        "plt.legend()\n",
        "plt.savefig('/content/drive/MyDrive/dementia/accplot.png')\n",
        "plt.show()"
      ],
      "metadata": {
        "colab": {
          "base_uri": "https://localhost:8080/",
          "height": 958
        },
        "id": "fWFCQ5Xdagrz",
        "outputId": "6ed918d5-4090-47c3-96f4-267cd3c42bba"
      },
      "execution_count": null,
      "outputs": [
        {
          "output_type": "display_data",
          "data": {
            "text/plain": [
              "<Figure size 1200x500 with 1 Axes>"
            ],
            "image/png": "[encoded data removed]"
          },
          "metadata": {}
        },
        {
          "output_type": "display_data",
          "data": {
            "text/plain": [
              "<Figure size 1200x500 with 1 Axes>"
            ],
            "image/png": "[encoded data removed]"
          },
          "metadata": {}
        }
      ]
    },
    {
      "cell_type": "code",
      "source": [
        "model.save_pretrained(\"dementia_detection_model\")\n",
        "tokenizer.save_pretrained(\"dementia_detection_model\")"
      ],
      "metadata": {
        "id": "JUVHd0m8Ses7"
      },
      "execution_count": null,
      "outputs": []
    },
    {
      "cell_type": "code",
      "source": [
        "dementia_test_dict = {key: dementia_dict[key] for key in dementia_test_keys}\n",
        "control_test_dict = {key: control_dict[key] for key in control_test_keys}"
      ],
      "metadata": {
        "id": "jF8YgxIrSBbC"
      },
      "execution_count": null,
      "outputs": []
    },
    {
      "cell_type": "code",
      "source": [
        "#Extract the dementia test data\n",
        "dementia_test = []\n",
        "for key, value in dementia_test_dict.items():\n",
        "  for token_list in value:\n",
        "    dementia_test.append(token_list)\n",
        "dementia_test_labels = [1] * len(dementia_test)\n",
        "\n",
        "#extract the control test data\n",
        "control_test = []\n",
        "for key, value in control_test_dict.items():\n",
        "  for token_list in value:\n",
        "    control_test.append(token_list)\n",
        "control_test_labels = [0] * len(control_test)"
      ],
      "metadata": {
        "id": "sQk6mQYIRDBY"
      },
      "execution_count": null,
      "outputs": []
    },
    {
      "cell_type": "code",
      "source": [
        "print(\"Dementia test length: \")\n",
        "print(len(dementia_test))\n",
        "print(\"Control test length: \")\n",
        "print(len(control_test))"
      ],
      "metadata": {
        "colab": {
          "base_uri": "https://localhost:8080/"
        },
        "id": "NW1-3SdKAwc4",
        "outputId": "39ed1b5d-d573-448c-974c-5fe1369f54e8"
      },
      "execution_count": null,
      "outputs": [
        {
          "output_type": "stream",
          "name": "stdout",
          "text": [
            "Dementia test length: \n",
            "27\n",
            "Control test length: \n",
            "24\n"
          ]
        }
      ]
    },
    {
      "cell_type": "code",
      "source": [
        "total_test = dementia_test + control_test\n",
        "total_test_labels = dementia_test_labels + control_test_labels"
      ],
      "metadata": {
        "id": "f_uQZoopRgxj"
      },
      "execution_count": null,
      "outputs": []
    },
    {
      "cell_type": "code",
      "source": [
        "test_dataset = DementiaDataset(total_test, total_test_labels, tokenizer)\n",
        "test_loader = DataLoader(test_dataset, batch_size=16)"
      ],
      "metadata": {
        "id": "R_AABaGvRrm2"
      },
      "execution_count": null,
      "outputs": []
    },
    {
      "cell_type": "code",
      "source": [
        "# Device setup (automatically detects GPU if available)\n",
        "device = torch.device(\"cuda\" if torch.cuda.is_available() else \"cpu\")"
      ],
      "metadata": {
        "id": "zlz_r4YIS0ZE"
      },
      "execution_count": null,
      "outputs": []
    },
    {
      "cell_type": "code",
      "source": [
        "from torch.nn import BCEWithLogitsLoss\n",
        "from torch.nn.functional import sigmoid\n",
        "import torch\n",
        "\n",
        "\n",
        "loss_fn = BCEWithLogitsLoss()\n",
        "\n",
        "#test function\n",
        "def test_model(model, test_loader, loss_fn, device):\n",
        "    model.eval()\n",
        "    total_loss = 0\n",
        "    correct_predictions = 0\n",
        "    total_samples = 0\n",
        "\n",
        "    predictions = []\n",
        "    true_labels = []\n",
        "\n",
        "    with torch.no_grad():\n",
        "        for batch in test_loader:\n",
        "            # Move data to device\n",
        "            input_ids = batch[\"input_ids\"].to(device)\n",
        "            attention_mask = batch[\"attention_mask\"].to(device)\n",
        "            labels = batch[\"label\"].to(device).float()  # Ensure labels are float for BCEWithLogitsLoss\n",
        "\n",
        "            # Forward pass\n",
        "            outputs = model(input_ids=input_ids, attention_mask=attention_mask)\n",
        "            logits = outputs.logits.squeeze(-1)  # Shape: (batch_size,)\n",
        "\n",
        "            # Compute loss\n",
        "            loss = loss_fn(logits, labels)\n",
        "            total_loss += loss.item()\n",
        "\n",
        "            # Convert logits to probabilities\n",
        "            probs = sigmoid(logits)  # Shape: (batch_size,)\n",
        "\n",
        "            # Apply threshold to convert probabilities to binary predictions\n",
        "            preds = (probs > 0.5).int()  # Shape: (batch_size,)\n",
        "\n",
        "            # Update metrics\n",
        "            correct_predictions += (preds == labels.int()).sum().item()\n",
        "            total_samples += labels.size(0)\n",
        "\n",
        "            # Store predictions and true labels for further analysis if needed\n",
        "            predictions.extend(preds.cpu().numpy())\n",
        "            true_labels.extend(labels.cpu().numpy())\n",
        "\n",
        "    # Calculate average loss and accuracy\n",
        "    avg_loss = total_loss / len(test_loader)\n",
        "    accuracy = correct_predictions / total_samples\n",
        "\n",
        "    print(f\"Test Loss: {avg_loss:.4f}, Test Accuracy: {accuracy:.4f}\")\n",
        "    return avg_loss, accuracy, predictions, true_labels\n",
        "\n"
      ],
      "metadata": {
        "id": "Z-qkkD_IZiMb"
      },
      "execution_count": null,
      "outputs": []
    },
    {
      "cell_type": "code",
      "source": [
        "avg_loss, accuracy, predictions, true_labels = test_model(model, test_loader, loss_fn, device)"
      ],
      "metadata": {
        "colab": {
          "base_uri": "https://localhost:8080/"
        },
        "id": "AfjHKJrLYUbq",
        "outputId": "272b1cff-decb-4f3c-cff1-9c4424aefde3"
      },
      "execution_count": null,
      "outputs": [
        {
          "output_type": "stream",
          "name": "stdout",
          "text": [
            "Test Loss: 0.0716, Test Accuracy: 0.9608\n"
          ]
        }
      ]
    },
    {
      "cell_type": "code",
      "source": [
        "def extract_cha_file(file_path, tokenizer, max_len=512):\n",
        "    token_lists = []  # List to store tokenized segments\n",
        "\n",
        "    with open(file_path, 'r') as file:\n",
        "        lines = file.readlines()\n",
        "\n",
        "    # Filter lines that start with *PAR\n",
        "    par_lines = [line[6:].strip() for line in lines if line.startswith(\"*PAR:\")]\n",
        "\n",
        "    # Concatenate all *PAR lines into one text\n",
        "    full_text = \" \".join(par_lines)\n",
        "\n",
        "    # Tokenize the full text\n",
        "    tokenized = tokenizer(\n",
        "        full_text,\n",
        "        max_length=max_len,\n",
        "        padding=\"max_length\",\n",
        "        truncation=True,\n",
        "        return_tensors=\"pt\"\n",
        "    )\n",
        "\n",
        "    return tokenized"
      ],
      "metadata": {
        "id": "Ajs31SPzL-_p"
      },
      "execution_count": null,
      "outputs": []
    },
    {
      "cell_type": "code",
      "source": [
        "#manually test model with a random dementia and control sample\n",
        "\n",
        "import random\n",
        "\n",
        "predicted_labels = []\n",
        "true_labels = []\n",
        "predicted_probs = []\n",
        "\n",
        "model.eval()\n",
        "controls = [f for f in os.listdir(control_directory) if os.path.isfile(os.path.join(control_directory, f))]\n",
        "dementias = [f for f in os.listdir(dementia_directory) if os.path.isfile(os.path.join(dementia_directory, f))]\n",
        "treshold = 0.42 #0.4790989775210619\n",
        "for i in range (100):\n",
        "  rand_control = random.choice(controls)\n",
        "  rand_dementia = random.choice(dementias)\n",
        "\n",
        "  control_tokenlists = extract_cha_file(control_directory+\"/\"+rand_control, tokenizer)\n",
        "  dementia_tokenlists = extract_cha_file(dementia_directory+\"/\"+rand_dementia, tokenizer)\n",
        "\n",
        "  control_tokenized_inputs = {key: val.to(device) for key, val in control_tokenlists.items()}\n",
        "  dementia_tokenized_inputs = {key: val.to(device) for key, val in dementia_tokenlists.items()}\n",
        "\n",
        "  true_labels.append(0)\n",
        "  with torch.no_grad():\n",
        "      outputs = model(**control_tokenized_inputs)\n",
        "      logits = outputs.logits\n",
        "      probs = torch.sigmoid(logits)\n",
        "\n",
        "  # Get the predicted probability and label\n",
        "  predicted_prob = probs.item()\n",
        "  predicted_probs.append(predicted_prob)\n",
        "  predicted_label = 1 if predicted_prob > 0.5 - treshold else 0\n",
        "  predicted_labels.append(predicted_label)\n",
        "\n",
        "  #print(\"Input: Control\")\n",
        "  #print(f\"Predicted Probability: {predicted_prob:.4f}\")\n",
        "  #print(f\"Predicted Label: {predicted_label}\")\n",
        "  #print(\"\\n--------------------------------------------------------------------------------------------\\n\")\n",
        "\n",
        "  true_labels.append(1)\n",
        "  with torch.no_grad():\n",
        "      outputs = model(**dementia_tokenized_inputs)\n",
        "      logits = outputs.logits\n",
        "      probs = torch.sigmoid(logits)\n",
        "\n",
        "  predicted_prob = probs.item()\n",
        "  predicted_probs.append(predicted_prob)\n",
        "  predicted_label = 1 if predicted_prob > 0.5 - treshold else 0\n",
        "  predicted_labels.append(predicted_label)\n",
        "\n",
        "  #print(\"Input: Dementia\")\n",
        "  #print(f\"Predicted Probability: {predicted_prob:.4f}\")\n",
        "  #print(f\"Predicted Label: {predicted_label}\")"
      ],
      "metadata": {
        "id": "eUd0rGDGdZ-5"
      },
      "execution_count": null,
      "outputs": []
    },
    {
      "cell_type": "code",
      "source": [
        "from sklearn.metrics import confusion_matrix, classification_report\n",
        "import matplotlib.pyplot as plt\n",
        "import seaborn as sns\n",
        "\n",
        "# Generate confusion matrix\n",
        "cm = confusion_matrix(true_labels, predicted_labels)\n",
        "\n",
        "print(\"Confusion Matrix:\")\n",
        "print(cm)"
      ],
      "metadata": {
        "colab": {
          "base_uri": "https://localhost:8080/"
        },
        "id": "gmrtfrZrhdwk",
        "outputId": "3668557d-aded-4c85-9352-1c0671de482b"
      },
      "execution_count": null,
      "outputs": [
        {
          "output_type": "stream",
          "name": "stdout",
          "text": [
            "Confusion Matrix:\n",
            "[[96  4]\n",
            " [ 8 92]]\n"
          ]
        }
      ]
    },
    {
      "cell_type": "code",
      "source": [
        "#ROC curve\n",
        "import numpy as np\n",
        "import matplotlib.pyplot as plt\n",
        "from sklearn.metrics import roc_curve, auc\n",
        "\n",
        "fpr, tpr, thresholds = roc_curve(true_labels, predicted_probs)\n",
        "\n",
        "roc_auc = auc(fpr, tpr)\n",
        "\n",
        "# Plot the ROC Curve\n",
        "plt.figure()\n",
        "plt.plot(fpr, tpr, color='blue', lw=2, label=f\"ROC Curve (AUC = {roc_auc:.2f})\")\n",
        "plt.plot([0, 1], [0, 1], color='gray', linestyle='--', lw=2, label=\"Random Classifier (AUC = 0.5)\")\n",
        "plt.xlabel(\"False Positive Rate\")\n",
        "plt.ylabel(\"True Positive Rate\")\n",
        "plt.title(\"Receiver Operating Characteristic (ROC) Curve\")\n",
        "plt.legend(loc=\"lower right\")\n",
        "plt.savefig('/content/drive/MyDrive/dementia/roccurve.png')\n",
        "plt.grid()\n",
        "plt.show()"
      ],
      "metadata": {
        "colab": {
          "base_uri": "https://localhost:8080/",
          "height": 472
        },
        "id": "oBRrAyBgqcDV",
        "outputId": "d0e4febb-688d-4b14-96cc-c21487fcc714"
      },
      "execution_count": null,
      "outputs": [
        {
          "output_type": "display_data",
          "data": {
            "text/plain": [
              "<Figure size 640x480 with 1 Axes>"
            ],
            "image/png": "[encoded data removed]"
          },
          "metadata": {}
        }
      ]
    },
    {
      "cell_type": "code",
      "source": [
        "# Calculate distance to top-left corner\n",
        "import numpy as np\n",
        "distance = np.sqrt((1 - tpr)**2 + fpr**2)\n",
        "best_threshold_index_distance = distance.argmin()\n",
        "best_threshold_distance = thresholds[best_threshold_index_distance]\n",
        "\n",
        "best_threshold_distance"
      ],
      "metadata": {
        "colab": {
          "base_uri": "https://localhost:8080/"
        },
        "id": "Av6pAD0REtyP",
        "outputId": "9e31efba-5c5c-42be-be70-ff303de5e721"
      },
      "execution_count": null,
      "outputs": [
        {
          "output_type": "execute_result",
          "data": {
            "text/plain": [
              "0.07731197029352188"
            ]
          },
          "metadata": {},
          "execution_count": 126
        }
      ]
    },
    {
      "cell_type": "code",
      "source": [
        "0.5 - best_threshold_distance"
      ],
      "metadata": {
        "colab": {
          "base_uri": "https://localhost:8080/"
        },
        "id": "ZFZCmjhxEv-f",
        "outputId": "1a408ef6-077f-4b17-8f6e-df382f2bb5c7"
      },
      "execution_count": null,
      "outputs": [
        {
          "output_type": "execute_result",
          "data": {
            "text/plain": [
              "0.4226880297064781"
            ]
          },
          "metadata": {},
          "execution_count": 127
        }
      ]
    }
  ]
}